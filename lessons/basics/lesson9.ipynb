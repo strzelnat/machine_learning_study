{
  "nbformat": 4,
  "nbformat_minor": 0,
  "metadata": {
    "colab": {
      "provenance": [],
      "authorship_tag": "ABX9TyPVHeK67ajz75Hun+nzXCJO",
      "include_colab_link": true
    },
    "kernelspec": {
      "name": "python3",
      "display_name": "Python 3"
    },
    "language_info": {
      "name": "python"
    }
  },
  "cells": [
    {
      "cell_type": "markdown",
      "metadata": {
        "id": "view-in-github",
        "colab_type": "text"
      },
      "source": [
        "<a href=\"https://colab.research.google.com/github/strzelnat/machine_learning_study/blob/main/lessons/basics/lesson9.ipynb\" target=\"_parent\"><img src=\"https://colab.research.google.com/assets/colab-badge.svg\" alt=\"Open In Colab\"/></a>"
      ]
    },
    {
      "cell_type": "code",
      "execution_count": 2,
      "metadata": {
        "colab": {
          "base_uri": "https://localhost:8080/"
        },
        "id": "9RumVxxHWRny",
        "outputId": "2d6c4973-c3a1-49b9-a394-1c3000e47781"
      },
      "outputs": [
        {
          "output_type": "stream",
          "name": "stdout",
          "text": [
            "Requirement already satisfied: scipy in /usr/local/lib/python3.11/dist-packages (1.15.3)\n",
            "Requirement already satisfied: numpy<2.5,>=1.23.5 in /usr/local/lib/python3.11/dist-packages (from scipy) (2.0.2)\n"
          ]
        }
      ],
      "source": [
        "!pip install scipy"
      ]
    },
    {
      "cell_type": "code",
      "source": [
        "import scipy.stats as stats\n",
        "import math\n",
        "import numpy as np\n",
        "import matplotlib.pyplot as plt"
      ],
      "metadata": {
        "id": "aHIoZuwHWSFB"
      },
      "execution_count": 3,
      "outputs": []
    },
    {
      "cell_type": "code",
      "source": [
        "population = stats.norm.rvs(size = 10000, loc = 45, scale = 5)\n",
        "population_mean = population.mean()\n",
        "population_std = population.std()\n",
        "\n",
        "sample_size = 50\n",
        "sample = np.random.choice(population, size = sample_size)\n",
        "sample_mean = sample.mean()\n",
        "sample_std = sample.std()\n",
        "\n",
        "# calculate confidence interval for 80% confidence level with Z-distribution -> 100% - ((100% - 80%) / 2)\n",
        "z_crtical = stats.norm.ppf(0.9)\n",
        "margin_of_error = z_crtical * (population_std / math.sqrt(sample_size))\n",
        "confidence_interval = (sample_mean - margin_of_error, sample_mean + margin_of_error)\n",
        "print(f\"80%-Confidence interval Z (basing on one sample): {confidence_interval}\")"
      ],
      "metadata": {
        "id": "cXMEIE6-WURL",
        "colab": {
          "base_uri": "https://localhost:8080/"
        },
        "outputId": "2e1b1c56-1e9e-4a4f-c41d-6b09b9573464"
      },
      "execution_count": 4,
      "outputs": [
        {
          "output_type": "stream",
          "name": "stdout",
          "text": [
            "80%-Confidence interval Z (basing on one sample): (np.float64(43.4084375802224), np.float64(45.21691471662716))\n"
          ]
        }
      ]
    },
    {
      "cell_type": "code",
      "source": [
        "population = stats.norm.rvs(size=100000, loc = 40, scale = 8)\n",
        "population_mean = population.mean()\n",
        "population_std = population.std()\n",
        "\n",
        "\n",
        "# calculate confidence interval for 90% confidence level with Z-distribution -> 100% - ((100% - 90%) / 2)\n",
        "sample_size = 30\n",
        "sample = np.random.choice(population, size = sample_size)\n",
        "sample_mean = sample.mean()\n",
        "sample_std = sample.std()\n",
        "\n",
        "z_crtical = stats.norm.ppf(0.95)\n",
        "margin_of_error = z_crtical * (population_std / math.sqrt(sample_size))\n",
        "confidence_interval = (sample_mean - margin_of_error, sample_mean + margin_of_error)\n",
        "print(f\"90%-Confidence interval Z (basing on one sample): {confidence_interval}\")"
      ],
      "metadata": {
        "id": "wguRrjbvWVsP",
        "colab": {
          "base_uri": "https://localhost:8080/"
        },
        "outputId": "fe9e7b84-7a72-4d9c-d9a0-b6e7e5c9650a"
      },
      "execution_count": 5,
      "outputs": [
        {
          "output_type": "stream",
          "name": "stdout",
          "text": [
            "90%-Confidence interval Z (basing on one sample): (np.float64(37.18447266534024), np.float64(41.99583976396923))\n"
          ]
        }
      ]
    },
    {
      "cell_type": "code",
      "source": [
        "population = stats.norm.rvs(size=100000, loc = 40, scale = 8)\n",
        "population_mean = population.mean()\n",
        "population_std = population.std()\n",
        "\n",
        "\n",
        "# calculate confidence interval for 95% confidence level with Z-distribution -> 100% - ((100% - 90%) / 2)\n",
        "sample_size = 30\n",
        "sample = np.random.choice(population, size = sample_size)\n",
        "sample_mean = sample.mean()\n",
        "sample_std = sample.std()\n",
        "\n",
        "z_crtical = stats.norm.ppf(0.975)\n",
        "margin_of_error = z_crtical * (population_std / math.sqrt(sample_size))\n",
        "confidence_interval = (sample_mean - margin_of_error, sample_mean + margin_of_error)\n",
        "print(f\"95%-Confidence interval Z (basing on one sample): {confidence_interval}\")"
      ],
      "metadata": {
        "id": "GyZQ3YSLWXJ6",
        "colab": {
          "base_uri": "https://localhost:8080/"
        },
        "outputId": "1a5f0b23-7639-4f17-fe56-3bfae6d49ae0"
      },
      "execution_count": 6,
      "outputs": [
        {
          "output_type": "stream",
          "name": "stdout",
          "text": [
            "95%-Confidence interval Z (basing on one sample): (np.float64(38.33132206400695), np.float64(44.08079610081011))\n"
          ]
        }
      ]
    },
    {
      "cell_type": "code",
      "source": [
        "# calculate confidence of inetrval = 99%\n",
        "population = stats.norm.rvs(size=100000, loc = 40, scale = 8)\n",
        "population_mean = population.mean()\n",
        "population_std = population.std()\n",
        "\n",
        "\n",
        "# calculate confidence interval for 100% confidence level with Z-distribution -> 100% - ((100% - 90%) / 2)\n",
        "sample_size = 30\n",
        "sample = np.random.choice(population, size = sample_size)\n",
        "sample_mean = sample.mean()\n",
        "sample_std = sample.std()\n",
        "\n",
        "z_crtical = stats.norm.ppf(0.995)\n",
        "margin_of_error = z_crtical * (population_std / math.sqrt(sample_size))\n",
        "confidence_interval = (sample_mean - margin_of_error, sample_mean + margin_of_error)\n",
        "print(f\"99%-Confidence interval Z (basing on one sample): {confidence_interval}\")\n",
        "print(f'Min: {population.min()}')\n",
        "print(f'Max: {population.max()}')"
      ],
      "metadata": {
        "id": "X-xO7V-jWYpv",
        "colab": {
          "base_uri": "https://localhost:8080/"
        },
        "outputId": "c4286b95-27e6-4a91-8809-e22b5b82b89f"
      },
      "execution_count": 7,
      "outputs": [
        {
          "output_type": "stream",
          "name": "stdout",
          "text": [
            "99%-Confidence interval Z (basing on one sample): (np.float64(38.83537862964405), np.float64(46.34143412484635))\n",
            "Min: 6.364965555414997\n",
            "Max: 81.89678645324759\n"
          ]
        }
      ]
    },
    {
      "cell_type": "code",
      "source": [
        "#the fastest automatic way\n",
        "interval = stats.norm.interval(confidence=0.99, loc = sample_mean, scale = population_std / math.sqrt(sample_size))\n",
        "interval"
      ],
      "metadata": {
        "id": "X0cuw27HWarG",
        "colab": {
          "base_uri": "https://localhost:8080/"
        },
        "outputId": "8e967318-3d6a-479b-a566-f599d17c8a80"
      },
      "execution_count": 8,
      "outputs": [
        {
          "output_type": "execute_result",
          "data": {
            "text/plain": [
              "(np.float64(38.83537862964405), np.float64(46.34143412484635))"
            ]
          },
          "metadata": {},
          "execution_count": 8
        }
      ]
    },
    {
      "cell_type": "code",
      "source": [
        "sample_size = 50\n",
        "sample_means = []\n",
        "margin_of_errors = []\n",
        "\n",
        "\n",
        "z_critical = stats.norm.ppf(0.995)\n",
        "\n",
        "for _ in range(50):\n",
        "    sample = np.random.choice(population, size=sample_size)\n",
        "    sample_mean = sample.mean()\n",
        "    sample_means.append(sample_mean)\n",
        "\n",
        "    margin = z_critical * (population_std / math.sqrt(sample_size))\n",
        "    margin_of_errors.append(margin)\n",
        "\n",
        "\n",
        "plt.figure(figsize=(10, 6))\n",
        "plt.title(\"99% Confidence Intervals (Normal / Z-distribution)\")\n",
        "plt.errorbar(\n",
        "    x=np.arange(50),\n",
        "    y=sample_means,\n",
        "    yerr=margin_of_errors,\n",
        "    fmt='o',\n",
        "    capsize=4,\n",
        "    elinewidth=2\n",
        ")\n",
        "plt.axhline(y=population_mean, color='red', linestyle='--', label='Population Mean')\n",
        "plt.xlabel(\"Sample Index\")\n",
        "plt.ylabel(\"Sample Mean\")\n",
        "plt.legend()\n",
        "plt.tight_layout()\n",
        "plt.show()"
      ],
      "metadata": {
        "id": "4DUHzJqCWbp0",
        "colab": {
          "base_uri": "https://localhost:8080/",
          "height": 607
        },
        "outputId": "85811eb0-01b3-4dc4-82e7-d54a3a06518f"
      },
      "execution_count": 9,
      "outputs": [
        {
          "output_type": "display_data",
          "data": {
            "text/plain": [
              "<Figure size 1000x600 with 1 Axes>"
            ],
            "image/png": "[encoded data removed]"
          },
          "metadata": {}
        }
      ]
    },
    {
      "cell_type": "code",
      "source": [
        "# T-Student\n",
        "# calculate confidence of inetrval = 99%\n",
        "population = stats.norm.rvs(size=100000, loc = 40, scale = 8)\n",
        "population_mean = population.mean()\n",
        "#population_std = population.std() no information\n",
        "\n",
        "\n",
        "# calculate confidence interval for 100% confidence level with Z-distribution -> 100% - ((100% - 90%) / 2)\n",
        "sample_size = 30\n",
        "sample = np.random.choice(population, size = sample_size)\n",
        "sample_mean = sample.mean()\n",
        "sample_std = sample.std()\n",
        "\n",
        "z_crtical = stats.t.ppf(q = 0.995, df = sample_size - 1)\n",
        "margin_of_error = z_crtical * (sample_std / math.sqrt(sample_size))\n",
        "confidence_interval = (sample_mean - margin_of_error, sample_mean + margin_of_error)\n",
        "print(f\"99%-Confidence interval Z (basing on one sample): {confidence_interval}\")\n",
        "print(f'Min: {population.min()}')\n",
        "print(f'Max: {population.max()}')"
      ],
      "metadata": {
        "id": "1RPhbfDYWc6U",
        "colab": {
          "base_uri": "https://localhost:8080/"
        },
        "outputId": "c7d6105a-8b31-4403-fab9-c5c2c04bba92"
      },
      "execution_count": 10,
      "outputs": [
        {
          "output_type": "stream",
          "name": "stdout",
          "text": [
            "99%-Confidence interval Z (basing on one sample): (np.float64(35.37607619798553), np.float64(42.853760469428344))\n",
            "Min: 3.624932498536232\n",
            "Max: 73.46483611751916\n"
          ]
        }
      ]
    },
    {
      "cell_type": "code",
      "source": [
        "interval = stats.t.interval(df = sample_size - 1, loc = sample_mean, confidence=0.99, scale = sample_std / math.sqrt(sample_size))\n",
        "interval"
      ],
      "metadata": {
        "id": "uGDYn9EbWePx",
        "colab": {
          "base_uri": "https://localhost:8080/"
        },
        "outputId": "33edf31c-4d5e-4451-9172-2d1e6d954157"
      },
      "execution_count": 11,
      "outputs": [
        {
          "output_type": "execute_result",
          "data": {
            "text/plain": [
              "(np.float64(35.37607619798553), np.float64(42.853760469428344))"
            ]
          },
          "metadata": {},
          "execution_count": 11
        }
      ]
    },
    {
      "cell_type": "code",
      "source": [
        "#what's gonna happen when i do not have normal distribution?\n",
        "sample_size = 50\n",
        "\n",
        "intervals = []\n",
        "sample_means = []\n",
        "\n",
        "for sample in range(50):\n",
        "  sample = np.random.choice(population, size = sample_size)\n",
        "  sample_mean = sample.mean()\n",
        "  sample_std = sample.std()\n",
        "  sample_means.append(sample_mean)\n",
        "\n",
        "  t_critical = stats.t.ppf(q = 0.995, df = sample_size - 1)\n",
        "  margin_of_error = t_critical * (sample_std /math.sqrt(sample_size))\n",
        "  confidence_interval = (sample_mean - margin_of_error, sample_mean + margin_of_error)\n",
        "  intervals.append(confidence_interval)\n",
        "\n",
        "plt.figure()\n",
        "plt.title('Is the population indeed in the confidence interval? - T - student')\n",
        "plt.errorbar(\n",
        "      x = np.arange(0, 50, 1),\n",
        "      y = sample_means,\n",
        "      fmt = 'o',\n",
        "      yerr = [(e-b) for b,e in intervals]\n",
        "  )\n",
        "\n",
        "plt.hlines(y = population_mean, xmin = 0, xmax = 50, color = 'red', linewidth = 1)"
      ],
      "metadata": {
        "id": "vyTEAd5NWgnS",
        "colab": {
          "base_uri": "https://localhost:8080/",
          "height": 469
        },
        "outputId": "c35b23cd-07ad-4c27-dfb1-6be2865d8f85"
      },
      "execution_count": 12,
      "outputs": [
        {
          "output_type": "execute_result",
          "data": {
            "text/plain": [
              "<matplotlib.collections.LineCollection at 0x78d73daed150>"
            ]
          },
          "metadata": {},
          "execution_count": 12
        },
        {
          "output_type": "display_data",
          "data": {
            "text/plain": [
              "<Figure size 640x480 with 1 Axes>"
            ],
            "image/png": "[encoded data removed]"
          },
          "metadata": {}
        }
      ]
    }
  ]
}